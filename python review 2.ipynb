{
 "cells": [
  {
   "cell_type": "code",
   "execution_count": 19,
   "id": "mature-straight",
   "metadata": {},
   "outputs": [
    {
     "name": "stdout",
     "output_type": "stream",
     "text": [
      "old enough and you have a licence!\n",
      "out\n"
     ]
    }
   ],
   "source": [
    "is_old=True\n",
    "is_licenced=True\n",
    "if is_old and is_licenced:\n",
    "    print('old enough and you have a licence!')\n",
    "#elif is_licenced:\n",
    "#    print('you can drive now')\n",
    "else:\n",
    "    print('too young')\n",
    "print('out')"
   ]
  },
  {
   "cell_type": "code",
   "execution_count": 26,
   "id": "cognitive-brand",
   "metadata": {},
   "outputs": [
    {
     "name": "stdout",
     "output_type": "stream",
     "text": [
      "exists\n"
     ]
    }
   ],
   "source": [
    "# Truthy and Falsy\n",
    "# print(bool('hello'))\n",
    "# print(bool('')) # Falsy\n",
    "# print(bool(0))\n",
    "# print(bool(None))\n",
    "password='123'\n",
    "username='johnny'\n",
    "if password and username:\n",
    "    print('exists')"
   ]
  },
  {
   "cell_type": "code",
   "execution_count": 30,
   "id": "liberal-portrait",
   "metadata": {},
   "outputs": [
    {
     "name": "stdout",
     "output_type": "stream",
     "text": [
      "not allowed to message\n"
     ]
    }
   ],
   "source": [
    "# Ternary Operator (AKA conditional expression)\n",
    "# condition_if_true if condition else condition_if_false\n",
    "is_friend=False\n",
    "can_message=('message allowed' if is_friend else 'not allowed to message')\n",
    "print(can_message)"
   ]
  },
  {
   "cell_type": "code",
   "execution_count": 32,
   "id": "adverse-embassy",
   "metadata": {},
   "outputs": [
    {
     "name": "stdout",
     "output_type": "stream",
     "text": [
      "friend\n"
     ]
    }
   ],
   "source": [
    "# Short Circuiting\n",
    "is_friend=True\n",
    "is_user=True\n",
    "if is_friend or is_user:\n",
    "    print('BFF')"
   ]
  },
  {
   "cell_type": "code",
   "execution_count": 53,
   "id": "quantitative-landscape",
   "metadata": {},
   "outputs": [
    {
     "name": "stdout",
     "output_type": "stream",
     "text": [
      "False\n",
      "True\n",
      "True\n",
      "False\n"
     ]
    }
   ],
   "source": [
    "# Logical Operators:<, >, ==, <=, >=, !=, and, or, not\n",
    "print(1<2>3<4)\n",
    "print(0<=0)\n",
    "print(0!=1)\n",
    "print(not 1==1)"
   ]
  },
  {
   "cell_type": "code",
   "execution_count": 56,
   "id": "graduate-coffee",
   "metadata": {},
   "outputs": [
    {
     "name": "stdout",
     "output_type": "stream",
     "text": [
      "at least getting there\n"
     ]
    }
   ],
   "source": [
    "is_magician=True\n",
    "is_expert=False\n",
    "# check if magician AND expert:'you are a master magician'\n",
    "# check if magician but not expert:'at least you are getting there'\n",
    "# check if you're not a magician:'you need magic powers'\n",
    "if is_magician and is_expert:\n",
    "    print('you are a master magician')\n",
    "elif is_magician and not is_expert:\n",
    "    print('at least getting there')\n",
    "else:\n",
    "    print('you need magic powers')"
   ]
  },
  {
   "cell_type": "code",
   "execution_count": 60,
   "id": "certain-bennett",
   "metadata": {},
   "outputs": [
    {
     "name": "stdout",
     "output_type": "stream",
     "text": [
      "True\n",
      "False\n",
      "False\n",
      "True\n",
      "True\n"
     ]
    }
   ],
   "source": [
    "print(True==1) # true\n",
    "print(''==1)   # false\n",
    "print([]==1)   # false\n",
    "print(10==10.0)# true\n",
    "print([]==[])  # true"
   ]
  },
  {
   "cell_type": "code",
   "execution_count": 65,
   "id": "discrete-upper",
   "metadata": {},
   "outputs": [
    {
     "name": "stdout",
     "output_type": "stream",
     "text": [
      "False\n"
     ]
    }
   ],
   "source": [
    "print('1'==1)"
   ]
  },
  {
   "cell_type": "code",
   "execution_count": 67,
   "id": "changed-berry",
   "metadata": {},
   "outputs": [
    {
     "name": "stdout",
     "output_type": "stream",
     "text": [
      "False\n",
      "False\n",
      "False\n",
      "False\n",
      "False\n"
     ]
    },
    {
     "name": "stderr",
     "output_type": "stream",
     "text": [
      "<>:1: SyntaxWarning: \"is\" with a literal. Did you mean \"==\"?\n",
      "<>:2: SyntaxWarning: \"is\" with a literal. Did you mean \"==\"?\n",
      "<>:3: SyntaxWarning: \"is\" with a literal. Did you mean \"==\"?\n",
      "<>:4: SyntaxWarning: \"is\" with a literal. Did you mean \"==\"?\n",
      "<>:1: SyntaxWarning: \"is\" with a literal. Did you mean \"==\"?\n",
      "<>:2: SyntaxWarning: \"is\" with a literal. Did you mean \"==\"?\n",
      "<>:3: SyntaxWarning: \"is\" with a literal. Did you mean \"==\"?\n",
      "<>:4: SyntaxWarning: \"is\" with a literal. Did you mean \"==\"?\n",
      "<ipython-input-67-e683c36271fa>:1: SyntaxWarning: \"is\" with a literal. Did you mean \"==\"?\n",
      "  print(True is 1)\n",
      "<ipython-input-67-e683c36271fa>:2: SyntaxWarning: \"is\" with a literal. Did you mean \"==\"?\n",
      "  print('' is 1)\n",
      "<ipython-input-67-e683c36271fa>:3: SyntaxWarning: \"is\" with a literal. Did you mean \"==\"?\n",
      "  print([] is 1)\n",
      "<ipython-input-67-e683c36271fa>:4: SyntaxWarning: \"is\" with a literal. Did you mean \"==\"?\n",
      "  print(10 is 10.0)\n"
     ]
    }
   ],
   "source": [
    "print(True is 1) \n",
    "print('' is 1)   \n",
    "print([] is 1)   \n",
    "print(10 is 10.0)\n",
    "print([] is [])  "
   ]
  },
  {
   "cell_type": "code",
   "execution_count": 74,
   "id": "historical-programmer",
   "metadata": {},
   "outputs": [
    {
     "name": "stdout",
     "output_type": "stream",
     "text": [
      "True\n",
      "True\n",
      "False\n",
      "False\n",
      "True\n",
      "True\n"
     ]
    },
    {
     "name": "stderr",
     "output_type": "stream",
     "text": [
      "<>:1: SyntaxWarning: \"is\" with a literal. Did you mean \"==\"?\n",
      "<>:1: SyntaxWarning: \"is\" with a literal. Did you mean \"==\"?\n",
      "<ipython-input-74-e22fb33888c8>:1: SyntaxWarning: \"is\" with a literal. Did you mean \"==\"?\n",
      "  print('1' is '1')\n"
     ]
    }
   ],
   "source": [
    "print('1' is '1')\n",
    "print(True is True)\n",
    "print([1,2,3] is [1,2,3]) # different lists(different locations and memory)\n",
    "a=[1,2,3]\n",
    "b=[1,2,3]\n",
    "print(a is b)\n",
    "print(a==b) # equality checks value, is checks location and memory\n",
    "print(a is a)"
   ]
  },
  {
   "cell_type": "code",
   "execution_count": 82,
   "id": "atomic-rochester",
   "metadata": {},
   "outputs": [
    {
     "name": "stdout",
     "output_type": "stream",
     "text": [
      "1\n",
      "2\n",
      "3\n",
      "4\n",
      "5\n",
      "done\n",
      "5\n"
     ]
    }
   ],
   "source": [
    "# Loops\n",
    "for item in (1,2,3,4,5):\n",
    "    print(item)\n",
    "#    print(item)\n",
    "#    print(item)\n",
    "print('done')\n",
    "print(item) # last print:5"
   ]
  },
  {
   "cell_type": "code",
   "execution_count": 85,
   "id": "distant-ceiling",
   "metadata": {},
   "outputs": [
    {
     "name": "stdout",
     "output_type": "stream",
     "text": [
      "1 a\n",
      "1 b\n",
      "1 c\n",
      "2 a\n",
      "2 b\n",
      "2 c\n",
      "3 a\n",
      "3 b\n",
      "3 c\n",
      "4 a\n",
      "4 b\n",
      "4 c\n",
      "5 a\n",
      "5 b\n",
      "5 c\n"
     ]
    }
   ],
   "source": [
    "for item in (1,2,3,4,5): # nested loops\n",
    "    for x in ['a','b','c']:\n",
    "        print(item,x)   "
   ]
  },
  {
   "cell_type": "code",
   "execution_count": 97,
   "id": "african-america",
   "metadata": {},
   "outputs": [
    {
     "name": "stdout",
     "output_type": "stream",
     "text": [
      "keys:\n",
      "name\n",
      "age\n",
      "can_swim\n",
      "pairs:\n",
      "name Golem\n",
      "age 5005\n",
      "can_swim False\n",
      "values:\n",
      "Golem\n",
      "5005\n",
      "False\n",
      "keys:\n",
      "name\n",
      "age\n",
      "can_swim\n"
     ]
    }
   ],
   "source": [
    "# iterable - list, dictionary, tuple, set, string\n",
    "# iterate -> one by one check each item in the collection\n",
    "users={\n",
    "    'name':'Golem',\n",
    "    'age':5005,\n",
    "    'can_swim':False\n",
    "}\n",
    "print('keys:')\n",
    "for item in users: \n",
    "    print(item)\n",
    "print('pairs:')\n",
    "for key,value in users.items():\n",
    "    print(key,value)\n",
    "print('values:')\n",
    "for item in users.values():\n",
    "    print(item)\n",
    "print('keys:')\n",
    "for item in users.keys():\n",
    "    print(item)\n",
    "#for item in 50: 'int' object is not iterable\n",
    "#    print(item)"
   ]
  },
  {
   "cell_type": "code",
   "execution_count": 101,
   "id": "urban-spoke",
   "metadata": {},
   "outputs": [
    {
     "name": "stdout",
     "output_type": "stream",
     "text": [
      "55\n"
     ]
    }
   ],
   "source": [
    "# counter\n",
    "my_list=[1,2,3,4,5,6,7,8,9,10]\n",
    "counter=0\n",
    "for item in my_list:\n",
    "#    print(item)\n",
    "    counter+=item\n",
    "print(counter)"
   ]
  },
  {
   "cell_type": "code",
   "execution_count": 117,
   "id": "subject-fleece",
   "metadata": {},
   "outputs": [
    {
     "name": "stdout",
     "output_type": "stream",
     "text": [
      "[0, 1, 2, 3, 4, 5, 6, 7, 8, 9]\n",
      "[0, 1, 2, 3, 4, 5, 6, 7, 8, 9]\n"
     ]
    }
   ],
   "source": [
    "#for _ in range(0,10,2): \n",
    "#    print(_)\n",
    "for _ in range(2) :\n",
    "    print(list(range(10)))"
   ]
  },
  {
   "cell_type": "code",
   "execution_count": 122,
   "id": "dependent-forth",
   "metadata": {},
   "outputs": [
    {
     "name": "stdout",
     "output_type": "stream",
     "text": [
      "0 1\n",
      "1 2\n",
      "2 3\n"
     ]
    }
   ],
   "source": [
    "for i,char in enumerate((1,2,3)): \n",
    "    print(i,char)"
   ]
  },
  {
   "cell_type": "code",
   "execution_count": 131,
   "id": "maritime-equality",
   "metadata": {},
   "outputs": [
    {
     "name": "stdout",
     "output_type": "stream",
     "text": [
      "the index of 50 is 50\n"
     ]
    }
   ],
   "source": [
    "for i,char in enumerate(list(range(100))):\n",
    "#    print(i,char)\n",
    "    if char==50:\n",
    "        print(f'the index of 50 is {i}')"
   ]
  },
  {
   "cell_type": "code",
   "execution_count": 140,
   "id": "closed-status",
   "metadata": {},
   "outputs": [
    {
     "name": "stdout",
     "output_type": "stream",
     "text": [
      "0\n"
     ]
    }
   ],
   "source": [
    "i=0\n",
    "while i<50:\n",
    "    print(i)\n",
    "#   break\n",
    "    i+=1\n",
    "#   break\n",
    "else:  # break will jump else\n",
    "    print('done')"
   ]
  },
  {
   "cell_type": "code",
   "execution_count": 146,
   "id": "concerned-tuning",
   "metadata": {},
   "outputs": [
    {
     "name": "stdout",
     "output_type": "stream",
     "text": [
      "1\n",
      "2\n",
      "3\n",
      "1\n",
      "2\n",
      "3\n"
     ]
    }
   ],
   "source": [
    "my_list=[1,2,3]\n",
    "#for item in my_list:\n",
    "#    print(item)\n",
    "i=0\n",
    "while i<len(my_list):\n",
    "    print(my_list[i])\n",
    "    i+=1"
   ]
  },
  {
   "cell_type": "code",
   "execution_count": 148,
   "id": "exotic-lawsuit",
   "metadata": {},
   "outputs": [
    {
     "name": "stdout",
     "output_type": "stream",
     "text": [
      "say something: hi\n",
      "say something: hi\n",
      "say something: bye\n"
     ]
    }
   ],
   "source": [
    "while True:\n",
    "    response=input('say something: ')\n",
    "    if response=='bye':\n",
    "        break"
   ]
  },
  {
   "cell_type": "code",
   "execution_count": 155,
   "id": "linear-cycling",
   "metadata": {},
   "outputs": [],
   "source": [
    "my_list=[1,2,3]\n",
    "for item in my_list:\n",
    "    continue                   # 跳过本次循环\n",
    "    print(item)\n",
    "i=0\n",
    "while i<len(my_list):\n",
    "#    print(my_list[i])\n",
    "    i+=1\n",
    "    continue\n",
    "    print(my_list[i])"
   ]
  },
  {
   "cell_type": "code",
   "execution_count": 158,
   "id": "aquatic-fighter",
   "metadata": {},
   "outputs": [
    {
     "name": "stdout",
     "output_type": "stream",
     "text": [
      "1\n",
      "2\n",
      "3\n"
     ]
    }
   ],
   "source": [
    "my_list=[1,2,3]\n",
    "i=0\n",
    "while i<len(my_list):\n",
    "    print(my_list[i])\n",
    "    i+=1\n",
    "    pass"
   ]
  },
  {
   "cell_type": "code",
   "execution_count": 160,
   "id": "satellite-crime",
   "metadata": {},
   "outputs": [],
   "source": [
    "my_list=[1,2,3]\n",
    "for item in my_list:\n",
    "    pass"
   ]
  },
  {
   "cell_type": "code",
   "execution_count": 184,
   "id": "conceptual-protection",
   "metadata": {},
   "outputs": [
    {
     "name": "stdout",
     "output_type": "stream",
     "text": [
      "7\n",
      "   *   \n",
      "  ***  \n",
      " ***** \n",
      "*******\n",
      "   *   \n",
      "   *   \n"
     ]
    }
   ],
   "source": [
    "picture=[\n",
    "    [0,0,0,1,0,0,0],\n",
    "    [0,0,1,1,1,0,0],\n",
    "    [0,1,1,1,1,1,0],\n",
    "    [1,1,1,1,1,1,1],\n",
    "    [0,0,0,1,0,0,0],\n",
    "    [0,0,0,1,0,0,0]\n",
    "]\n",
    "nrow=len(picture)\n",
    "ncol=len(picture[0])\n",
    "print(ncol)\n",
    "# i=j=0\n",
    "for i in range(0,nrow):\n",
    "    for j in range(0,ncol):\n",
    "        if picture[i][j]==0:\n",
    "            print(' ',end='')\n",
    "        else:\n",
    "            print('*',end='')\n",
    "    print('')\n"
   ]
  },
  {
   "cell_type": "code",
   "execution_count": 197,
   "id": "swedish-queue",
   "metadata": {},
   "outputs": [
    {
     "name": "stdout",
     "output_type": "stream",
     "text": [
      "   $   \n",
      "  $$$  \n",
      " $$$$$ \n",
      "$$$$$$$\n",
      "   $   \n",
      "   $   \n"
     ]
    }
   ],
   "source": [
    "# clean\n",
    "# readability\n",
    "# predictability\n",
    "# DRY (don't repeat yourself)\n",
    "picture=[\n",
    "    [0,0,0,1,0,0,0],\n",
    "    [0,0,1,1,1,0,0],\n",
    "    [0,1,1,1,1,1,0],\n",
    "    [1,1,1,1,1,1,1],\n",
    "    [0,0,0,1,0,0,0],\n",
    "    [0,0,0,1,0,0,0]\n",
    "]\n",
    "# 1.iterate over pic.\n",
    " # if 0 print ''\n",
    " # if 1 print *\n",
    "fill='$'\n",
    "empty=' '\n",
    "for row in picture:\n",
    "    for pixel in row:\n",
    "        if pixel:\n",
    "            print(fill,end='')\n",
    "        else:\n",
    "            print(empty,end='')\n",
    "    print('')  # need a new line after every row\n",
    "    # print('\\n')\n"
   ]
  },
  {
   "cell_type": "code",
   "execution_count": 208,
   "id": "electronic-notion",
   "metadata": {},
   "outputs": [
    {
     "name": "stdout",
     "output_type": "stream",
     "text": [
      "['b', 'n']\n"
     ]
    }
   ],
   "source": [
    "some_list=['a','b','c','b','d','m','n','n']\n",
    "duplicate=[]\n",
    "for value in some_list:\n",
    "    if some_list.count(value)>1:\n",
    "        if value not in duplicate:\n",
    "            duplicate.append(value)\n",
    "print(duplicate)"
   ]
  },
  {
   "cell_type": "code",
   "execution_count": 26,
   "id": "static-traveler",
   "metadata": {},
   "outputs": [
    {
     "name": "stdout",
     "output_type": "stream",
     "text": [
      "hello, Bibi😊\n",
      "hello, Darth Vader😈\n",
      "hello, Timmy😈\n"
     ]
    }
   ],
   "source": [
    "# positional parameters \n",
    "# default parameters\n",
    "def say_hello(name='Darth Vader',emoji='😈'):\n",
    "    print(f'hello, {name}{emoji}')\n",
    "# positional arguments\n",
    "#say_hello('John','😊')    # call, invoke\n",
    "#say_hello('😊','John')\n",
    "# say_hello('Eliza','😊')\n",
    "# keyword arguments\n",
    "#say_hello(emoji='😊',name='Bibi')\n",
    "#say_hello(name='Bibi',emoji='😊')\n",
    "say_hello(name='Bibi',emoji='😊')\n",
    "say_hello()\n",
    "say_hello('Timmy')"
   ]
  },
  {
   "cell_type": "code",
   "execution_count": 17,
   "id": "minimal-citation",
   "metadata": {},
   "outputs": [
    {
     "name": "stdout",
     "output_type": "stream",
     "text": [
      "   *   \n",
      "  ***  \n",
      " ***** \n",
      "*******\n",
      "   *   \n",
      "   *   \n",
      "   *   \n",
      "  ***  \n",
      " ***** \n",
      "*******\n",
      "   *   \n",
      "   *   \n",
      "<function show_tree at 0x7fb24f260790>\n"
     ]
    }
   ],
   "source": [
    "picture=[\n",
    "    [0,0,0,1,0,0,0],\n",
    "    [0,0,1,1,1,0,0],\n",
    "    [0,1,1,1,1,1,0],\n",
    "    [1,1,1,1,1,1,1],\n",
    "    [0,0,0,1,0,0,0],\n",
    "    [0,0,0,1,0,0,0]\n",
    "]\n",
    "nrow=len(picture)\n",
    "ncol=len(picture[0])\n",
    "def show_tree():\n",
    "    for i in range(0,nrow):\n",
    "        for j in range(0,ncol):\n",
    "            if picture[i][j]==0:\n",
    "                print(' ',end='')\n",
    "            else:\n",
    "                print('*',end='')\n",
    "        print('')\n",
    "show_tree()\n",
    "show_tree()\n",
    "print(show_tree)       # location of function"
   ]
  },
  {
   "cell_type": "code",
   "execution_count": 53,
   "id": "organizational-matrix",
   "metadata": {},
   "outputs": [
    {
     "name": "stdout",
     "output_type": "stream",
     "text": [
      "30\n"
     ]
    }
   ],
   "source": [
    "def sum0(num1,num2):\n",
    "    def another_func(n1,n2):\n",
    "#    print('hi')\n",
    "        return n1+n2\n",
    "    return another_func(num1,num2)       # exist function\n",
    "    return 5\n",
    "    print('hello')\n",
    "#    return another_func\n",
    "# do one thing\n",
    "# return something\n",
    "#print(sum0(10,sum0(10,5)))\n",
    "#total=sum0(10,20)\n",
    "#total=sum0(10,20)\n",
    "#print(total(10,20))\n",
    "total=sum0(10,20)\n",
    "print(total)"
   ]
  },
  {
   "cell_type": "code",
   "execution_count": 54,
   "id": "sharing-kansas",
   "metadata": {},
   "outputs": [
    {
     "name": "stdout",
     "output_type": "stream",
     "text": [
      "what is your age?: 20\n",
      "power on\n"
     ]
    }
   ],
   "source": [
    "def checkDriverAge():\n",
    "    age=input('what is your age?: ')\n",
    "    if int(age)<18:\n",
    "        print('too young, power off')\n",
    "    elif int(age)>18:\n",
    "        print('power on')\n",
    "    elif int(age)==18:\n",
    "        print('first year of driving')\n",
    "checkDriverAge()"
   ]
  },
  {
   "cell_type": "code",
   "execution_count": 55,
   "id": "unlikely-payday",
   "metadata": {},
   "outputs": [
    {
     "name": "stdout",
     "output_type": "stream",
     "text": [
      "power on\n"
     ]
    }
   ],
   "source": [
    "def checkDriverAge(age=0):\n",
    "    if int(age)<18:\n",
    "        print('too young, power off')\n",
    "    elif int(age)>18:\n",
    "        print('power on')\n",
    "    elif int(age)==18:\n",
    "        print('first year of driving')\n",
    "checkDriverAge(92)"
   ]
  },
  {
   "cell_type": "code",
   "execution_count": 60,
   "id": "understanding-loading",
   "metadata": {},
   "outputs": [],
   "source": [
    "# Methods vs Functions\n",
    "def some_random_stuff():\n",
    "    pass\n",
    "some_random_stuff()\n",
    "#'hello'.capitalize()"
   ]
  },
  {
   "cell_type": "code",
   "execution_count": 70,
   "id": "loaded-armor",
   "metadata": {},
   "outputs": [
    {
     "name": "stdout",
     "output_type": "stream",
     "text": [
      "\n",
      "    Info:this func is useless!\n",
      "    \n"
     ]
    }
   ],
   "source": [
    "# docstrings\n",
    "def test(a):\n",
    "    '''\n",
    "    Info:this func is useless!\n",
    "    '''\n",
    "    print(a)\n",
    "#test('!!!')\n",
    "#help(test)\n",
    "print(test.__doc__)  # double'_':func.__doc__"
   ]
  },
  {
   "cell_type": "code",
   "execution_count": 80,
   "id": "pregnant-daily",
   "metadata": {},
   "outputs": [
    {
     "name": "stdout",
     "output_type": "stream",
     "text": [
      "True\n"
     ]
    }
   ],
   "source": [
    "# clean code\n",
    "def is_even(num):\n",
    "    return num%2==0\n",
    "print(is_even(50))"
   ]
  },
  {
   "cell_type": "code",
   "execution_count": 90,
   "id": "prostate-department",
   "metadata": {},
   "outputs": [
    {
     "name": "stdout",
     "output_type": "stream",
     "text": [
      "(1, 2, 3, 4, 5)\n",
      "{'num1': 5, 'num2': 10}\n",
      "30\n"
     ]
    }
   ],
   "source": [
    "# *args  **kwargs\n",
    "def super_func(name,*args,i='hi',**kwargs):\n",
    "    print(args)             # tuple\n",
    "    total=0\n",
    "    print(kwargs)           # dict\n",
    "    for items in kwargs.values():\n",
    "        total+=items\n",
    "    return sum(args)+total\n",
    "print(super_func('Andy',1,2,3,4,5,num1=5,num2=10))\n",
    "\n",
    "# Rule(order): params,*args,default parameters,**kwargs\n"
   ]
  },
  {
   "cell_type": "code",
   "execution_count": 92,
   "id": "innocent-prediction",
   "metadata": {},
   "outputs": [
    {
     "data": {
      "text/plain": [
       "10"
      ]
     },
     "execution_count": 92,
     "metadata": {},
     "output_type": "execute_result"
    }
   ],
   "source": [
    "def highest_even(li):\n",
    "    even=0\n",
    "    for item in li:\n",
    "        if not item%2:\n",
    "            if item>even:\n",
    "                even=item\n",
    "    return even\n",
    "highest_even([10,2,4,5,2,11])\n",
    "    "
   ]
  },
  {
   "cell_type": "code",
   "execution_count": 94,
   "id": "massive-mechanics",
   "metadata": {},
   "outputs": [
    {
     "data": {
      "text/plain": [
       "4"
      ]
     },
     "execution_count": 94,
     "metadata": {},
     "output_type": "execute_result"
    }
   ],
   "source": [
    "def highest_even(li):\n",
    "    even=[]\n",
    "    for item in li:\n",
    "        if not item%2:\n",
    "            even.append(item)\n",
    "    return max(even)\n",
    "highest_even([1,2,3,4,2,4,2,1,2,33])"
   ]
  },
  {
   "cell_type": "markdown",
   "id": "optical-thong",
   "metadata": {},
   "source": [
    "## scope\n",
    "\n",
    "1. start with local\n",
    "2. parent local\n",
    "3. global\n",
    "4. built in python functions."
   ]
  },
  {
   "cell_type": "code",
   "execution_count": 110,
   "id": "adverse-technology",
   "metadata": {},
   "outputs": [
    {
     "data": {
      "text/plain": [
       "3"
      ]
     },
     "execution_count": 110,
     "metadata": {},
     "output_type": "execute_result"
    }
   ],
   "source": [
    "total=0\n",
    "def count0():\n",
    "    global total\n",
    "    total+=1\n",
    "    return total\n",
    "#print(count0(total))\n",
    "#print(count0(count0(count0(total))))\n",
    "count0()\n",
    "count0()\n",
    "count0()"
   ]
  },
  {
   "cell_type": "code",
   "execution_count": 111,
   "id": "inappropriate-invitation",
   "metadata": {},
   "outputs": [
    {
     "name": "stdout",
     "output_type": "stream",
     "text": [
      "inner: nonlocal\n",
      "outer: nonlocal\n"
     ]
    }
   ],
   "source": [
    "def outer():\n",
    "    x='local'\n",
    "    def inner():\n",
    "        nonlocal x\n",
    "        x='nonlocal'\n",
    "        print('inner:',x)\n",
    "    inner()\n",
    "    print('outer:',x)\n",
    "outer()"
   ]
  },
  {
   "cell_type": "code",
   "execution_count": 113,
   "id": "oriented-eagle",
   "metadata": {},
   "outputs": [
    {
     "name": "stdout",
     "output_type": "stream",
     "text": [
      "[2, 4, 6]\n"
     ]
    }
   ],
   "source": [
    "# pure function\n",
    "def multiply_by2(li):\n",
    "    new_list=[]\n",
    "    for item in li:\n",
    "        new_list.append(item*2)\n",
    "    return new_list\n",
    "print(multiply_by2([1,2,3]))"
   ]
  },
  {
   "cell_type": "code",
   "execution_count": 125,
   "id": "facial-matter",
   "metadata": {},
   "outputs": [
    {
     "name": "stdout",
     "output_type": "stream",
     "text": [
      "<map object at 0x7fb24da720d0>\n",
      "[2, 4, 6]\n",
      "[1, 2, 3]\n"
     ]
    }
   ],
   "source": [
    "# map\n",
    "my_list=[1,2,3]\n",
    "def multiply_by2(item):\n",
    "    return item*2\n",
    "print(map(multiply_by2,my_list))\n",
    "print(list(map(multiply_by2,my_list)))\n",
    "print(my_list)                 #unchanged, map is a pure function"
   ]
  },
  {
   "cell_type": "code",
   "execution_count": 128,
   "id": "pediatric-embassy",
   "metadata": {},
   "outputs": [
    {
     "name": "stdout",
     "output_type": "stream",
     "text": [
      "[1, 3]\n",
      "[1, 2, 3]\n"
     ]
    }
   ],
   "source": [
    "# filter\n",
    "my_list=[1,2,3]\n",
    "def only_odd(item):\n",
    "    return item%2!=0\n",
    "print(list(filter(only_odd,my_list)))   \n",
    "print(my_list)                 #unchanged, filter is a pure function"
   ]
  },
  {
   "cell_type": "code",
   "execution_count": 133,
   "id": "continental-destruction",
   "metadata": {},
   "outputs": [
    {
     "name": "stdout",
     "output_type": "stream",
     "text": [
      "[(1, 10, 5), (2, 20, 4), (3, 30, 3)]\n",
      "[1, 2, 3]\n",
      "(10, 20, 30)\n"
     ]
    }
   ],
   "source": [
    "# zip\n",
    "my_list=[1,2,3]\n",
    "your_list=(10,20,30)\n",
    "their_list=(5,4,3)\n",
    "print(list(zip(my_list,your_list,their_list)))\n",
    "print(my_list)\n",
    "print(your_list)"
   ]
  },
  {
   "cell_type": "code",
   "execution_count": 138,
   "id": "inside-interstate",
   "metadata": {},
   "outputs": [
    {
     "name": "stdout",
     "output_type": "stream",
     "text": [
      "10 1\n",
      "11 2\n",
      "13 3\n",
      "16\n",
      "[1, 2, 3]\n"
     ]
    }
   ],
   "source": [
    "# reduce\n",
    "from functools import reduce\n",
    "my_list=[1,2,3]\n",
    "def accumulator(acc,item):\n",
    "    print(acc,item)\n",
    "    return acc+item\n",
    "print(reduce(accumulator,my_list,10))\n",
    "print(my_list)"
   ]
  },
  {
   "cell_type": "code",
   "execution_count": 149,
   "id": "insured-tobago",
   "metadata": {},
   "outputs": [
    {
     "name": "stdout",
     "output_type": "stream",
     "text": [
      "['h', 'e', 'l', 'l', 'o']\n",
      "['h', 'e', 'l', 'l', 'o']\n",
      "[0, 1, 2, 3, 4, 5, 6, 7, 8, 9]\n",
      "[0, 2, 4, 6, 8, 10, 12, 14, 16, 18]\n",
      "[0, 4, 16, 36, 64]\n"
     ]
    }
   ],
   "source": [
    "# list, set, dictionary comprehension\n",
    "# list comprehension\n",
    "my_list=[char for char in 'hello']\n",
    "print(my_list)\n",
    "my_list=list('hello')\n",
    "print(my_list)\n",
    "my_list2=[num for num in range(0,10)]\n",
    "print(my_list2)\n",
    "my_list3=[num*2 for num in range(0,10)]\n",
    "print(my_list3)\n",
    "my_list4=[num**2 for num in range(0,10) if num%2==0]\n",
    "print(my_list4)"
   ]
  },
  {
   "cell_type": "code",
   "execution_count": 150,
   "id": "crazy-mandate",
   "metadata": {},
   "outputs": [
    {
     "name": "stdout",
     "output_type": "stream",
     "text": [
      "{'e', 'o', 'l', 'h'}\n",
      "{'e', 'o', 'l', 'h'}\n",
      "{0, 1, 2, 3, 4, 5, 6, 7, 8, 9}\n",
      "{0, 2, 4, 6, 8, 10, 12, 14, 16, 18}\n",
      "{0, 64, 4, 36, 16}\n"
     ]
    }
   ],
   "source": [
    "# set comprehension (set is unordered)\n",
    "my_list={char for char in 'hello'}\n",
    "print(my_list)\n",
    "my_list=set('hello')\n",
    "print(my_list)\n",
    "my_list2={num for num in range(0,10)}\n",
    "print(my_list2)\n",
    "my_list3={num*2 for num in range(0,10)}\n",
    "print(my_list3)\n",
    "my_list4={num**2 for num in range(0,10) if num%2==0}\n",
    "print(my_list4)"
   ]
  },
  {
   "cell_type": "code",
   "execution_count": 153,
   "id": "residential-bacteria",
   "metadata": {},
   "outputs": [
    {
     "name": "stdout",
     "output_type": "stream",
     "text": [
      "{'b': 4}\n",
      "{1: 2, 2: 4, 3: 6}\n"
     ]
    }
   ],
   "source": [
    "# dict comprehension\n",
    "simple_dict={\n",
    "    'a':1,\n",
    "    'b':2\n",
    "}\n",
    "my_dict={key:value**2 for key,value in simple_dict.items() if value%2==0}\n",
    "print(my_dict)\n",
    "my_dict={num:num*2 for num in [1,2,3]}\n",
    "print(my_dict)"
   ]
  },
  {
   "cell_type": "code",
   "execution_count": 157,
   "id": "decimal-creativity",
   "metadata": {},
   "outputs": [
    {
     "name": "stdout",
     "output_type": "stream",
     "text": [
      "['n', 'b']\n"
     ]
    }
   ],
   "source": [
    "some_list=['a','b','c','b','d','m','n','n']\n",
    "#duplicate=[]\n",
    "#for value in some_list:\n",
    "#    if some_list.count(value)>1:\n",
    "#        if value not in duplicate:\n",
    "#            duplicate.append(value)\n",
    "#print(duplicate)\n",
    "#duplicate={char for char in some_list if some_list.count(char)>1}\n",
    "#print(duplicate)\n",
    "duplicate=list(set([x for x in some_list if some_list.count(x)>1]))\n",
    "print(duplicate)"
   ]
  },
  {
   "cell_type": "code",
   "execution_count": 160,
   "id": "postal-diary",
   "metadata": {},
   "outputs": [
    {
     "data": {
      "text/plain": [
       "'H'"
      ]
     },
     "execution_count": 160,
     "metadata": {},
     "output_type": "execute_result"
    }
   ],
   "source": []
  },
  {
   "cell_type": "code",
   "execution_count": null,
   "id": "arabic-chapter",
   "metadata": {},
   "outputs": [],
   "source": []
  }
 ],
 "metadata": {
  "kernelspec": {
   "display_name": "Python 3",
   "language": "python",
   "name": "python3"
  },
  "language_info": {
   "codemirror_mode": {
    "name": "ipython",
    "version": 3
   },
   "file_extension": ".py",
   "mimetype": "text/x-python",
   "name": "python",
   "nbconvert_exporter": "python",
   "pygments_lexer": "ipython3",
   "version": "3.8.3"
  }
 },
 "nbformat": 4,
 "nbformat_minor": 5
}
