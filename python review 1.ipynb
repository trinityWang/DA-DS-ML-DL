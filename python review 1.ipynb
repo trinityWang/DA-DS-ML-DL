{
 "cells": [
  {
   "cell_type": "code",
   "execution_count": 2,
   "id": "neutral-alexander",
   "metadata": {},
   "outputs": [
    {
     "name": "stdout",
     "output_type": "stream",
     "text": [
      "Zizheng Wang\n"
     ]
    }
   ],
   "source": [
    "print('Zizheng Wang')"
   ]
  },
  {
   "cell_type": "code",
   "execution_count": 6,
   "id": "elementary-bridges",
   "metadata": {},
   "outputs": [
    {
     "name": "stdout",
     "output_type": "stream",
     "text": [
      "What is your name?Zizheng Wang\n",
      "hello Zizheng Wang\n"
     ]
    }
   ],
   "source": [
    "name=input('What is your name?')\n",
    "print('hello'+' '+name)"
   ]
  },
  {
   "cell_type": "markdown",
   "id": "architectural-mining",
   "metadata": {},
   "source": [
    "## Fundamental Data Types\n",
    "\n",
    "int\n",
    "float\n",
    "complex\n",
    "bool\n",
    "str\n",
    "list\n",
    "tuple\n",
    "set\n",
    "dict"
   ]
  },
  {
   "cell_type": "markdown",
   "id": "duplicate-theory",
   "metadata": {},
   "source": [
    "## Classes -> custom type"
   ]
  },
  {
   "cell_type": "markdown",
   "id": "advanced-spouse",
   "metadata": {},
   "source": [
    "## Specialized Data Types"
   ]
  },
  {
   "cell_type": "markdown",
   "id": "favorite-willow",
   "metadata": {},
   "source": [
    "## None"
   ]
  },
  {
   "cell_type": "code",
   "execution_count": 14,
   "id": "pediatric-horizon",
   "metadata": {},
   "outputs": [
    {
     "name": "stdout",
     "output_type": "stream",
     "text": [
      "6\n",
      "<class 'int'>\n",
      "-2\n",
      "8\n",
      "0.5\n",
      "<class 'float'>\n",
      "<class 'float'>\n",
      "<class 'int'>\n",
      "<class 'float'>\n",
      "<class 'float'>\n"
     ]
    },
    {
     "data": {
      "text/plain": [
       "float"
      ]
     },
     "execution_count": 14,
     "metadata": {},
     "output_type": "execute_result"
    }
   ],
   "source": [
    "# int and float\n",
    "print(2+4)\n",
    "print(type(2+4))\n",
    "print(2-4)\n",
    "print(2*4)\n",
    "print(2/4)\n",
    "print(type(2/4)) # 0.5\n",
    "print(type(0.1))\n",
    "print(type(0))\n",
    "print(type(20+1.1))\n",
    "print(type(9.9+1.1))\n",
    "type(9.9+1.1)"
   ]
  },
  {
   "cell_type": "code",
   "execution_count": 16,
   "id": "hearing-array",
   "metadata": {},
   "outputs": [
    {
     "data": {
      "text/plain": [
       "8"
      ]
     },
     "execution_count": 16,
     "metadata": {},
     "output_type": "execute_result"
    }
   ],
   "source": [
    "2**2"
   ]
  },
  {
   "cell_type": "code",
   "execution_count": 17,
   "id": "common-sewing",
   "metadata": {},
   "outputs": [
    {
     "data": {
      "text/plain": [
       "8"
      ]
     },
     "execution_count": 17,
     "metadata": {},
     "output_type": "execute_result"
    }
   ],
   "source": [
    "2**3"
   ]
  },
  {
   "cell_type": "code",
   "execution_count": 18,
   "id": "blocked-uganda",
   "metadata": {},
   "outputs": [
    {
     "data": {
      "text/plain": [
       "0"
      ]
     },
     "execution_count": 18,
     "metadata": {},
     "output_type": "execute_result"
    }
   ],
   "source": [
    "2//4 "
   ]
  },
  {
   "cell_type": "code",
   "execution_count": 19,
   "id": "thermal-sharp",
   "metadata": {},
   "outputs": [
    {
     "data": {
      "text/plain": [
       "0"
      ]
     },
     "execution_count": 19,
     "metadata": {},
     "output_type": "execute_result"
    }
   ],
   "source": [
    "3//4"
   ]
  },
  {
   "cell_type": "code",
   "execution_count": 20,
   "id": "naval-connecticut",
   "metadata": {},
   "outputs": [
    {
     "data": {
      "text/plain": [
       "1"
      ]
     },
     "execution_count": 20,
     "metadata": {},
     "output_type": "execute_result"
    }
   ],
   "source": [
    "5//4"
   ]
  },
  {
   "cell_type": "code",
   "execution_count": 21,
   "id": "corporate-somalia",
   "metadata": {},
   "outputs": [
    {
     "data": {
      "text/plain": [
       "1"
      ]
     },
     "execution_count": 21,
     "metadata": {},
     "output_type": "execute_result"
    }
   ],
   "source": [
    "5%4"
   ]
  },
  {
   "cell_type": "code",
   "execution_count": 23,
   "id": "saved-arlington",
   "metadata": {},
   "outputs": [
    {
     "data": {
      "text/plain": [
       "2"
      ]
     },
     "execution_count": 23,
     "metadata": {},
     "output_type": "execute_result"
    }
   ],
   "source": [
    "6%4"
   ]
  },
  {
   "cell_type": "code",
   "execution_count": 24,
   "id": "incorrect-incidence",
   "metadata": {},
   "outputs": [
    {
     "data": {
      "text/plain": [
       "3"
      ]
     },
     "execution_count": 24,
     "metadata": {},
     "output_type": "execute_result"
    }
   ],
   "source": [
    "# math functions\n",
    "round(3.1)"
   ]
  },
  {
   "cell_type": "code",
   "execution_count": 28,
   "id": "boolean-charlotte",
   "metadata": {},
   "outputs": [
    {
     "data": {
      "text/plain": [
       "4"
      ]
     },
     "execution_count": 28,
     "metadata": {},
     "output_type": "execute_result"
    }
   ],
   "source": [
    "round(3.9)"
   ]
  },
  {
   "cell_type": "code",
   "execution_count": 26,
   "id": "valid-soldier",
   "metadata": {},
   "outputs": [
    {
     "data": {
      "text/plain": [
       "20"
      ]
     },
     "execution_count": 26,
     "metadata": {},
     "output_type": "execute_result"
    }
   ],
   "source": [
    "abs(-20)"
   ]
  },
  {
   "cell_type": "code",
   "execution_count": 31,
   "id": "brutal-neighbor",
   "metadata": {},
   "outputs": [],
   "source": [
    "## operator precedence\n",
    "# ()\n",
    "# **\n",
    "# * /\n",
    "# + -"
   ]
  },
  {
   "cell_type": "code",
   "execution_count": 30,
   "id": "electrical-homeless",
   "metadata": {},
   "outputs": [
    {
     "data": {
      "text/plain": [
       "21"
      ]
     },
     "execution_count": 30,
     "metadata": {},
     "output_type": "execute_result"
    }
   ],
   "source": [
    "(20-3)+2**2"
   ]
  },
  {
   "cell_type": "code",
   "execution_count": 33,
   "id": "latin-orleans",
   "metadata": {},
   "outputs": [
    {
     "name": "stdout",
     "output_type": "stream",
     "text": [
      "45.0\n",
      "45.0\n",
      "45.0\n",
      "25.0\n",
      "25\n"
     ]
    }
   ],
   "source": [
    "print((5 + 4) * 10 / 2)   # 45.0\n",
    "print(((5 + 4) * 10) / 2)  # 45.0\n",
    "print((5 + 4) * (10 / 2))  # 45.0\n",
    "print(5 + (4 * 10) / 2)    # 25.0\n",
    "print(5 + 4 * 10 // 2)    # 25"
   ]
  },
  {
   "cell_type": "code",
   "execution_count": 35,
   "id": "collectible-chemistry",
   "metadata": {},
   "outputs": [
    {
     "data": {
      "text/plain": [
       "'0b101'"
      ]
     },
     "execution_count": 35,
     "metadata": {},
     "output_type": "execute_result"
    }
   ],
   "source": [
    "bin(5) # return binary"
   ]
  },
  {
   "cell_type": "code",
   "execution_count": 40,
   "id": "indonesian-framing",
   "metadata": {},
   "outputs": [
    {
     "data": {
      "text/plain": [
       "5"
      ]
     },
     "execution_count": 40,
     "metadata": {},
     "output_type": "execute_result"
    }
   ],
   "source": [
    "int('0b101',base=2)"
   ]
  },
  {
   "cell_type": "code",
   "execution_count": 41,
   "id": "increased-capitol",
   "metadata": {},
   "outputs": [],
   "source": [
    "iq=190"
   ]
  },
  {
   "cell_type": "code",
   "execution_count": 42,
   "id": "fatal-chosen",
   "metadata": {},
   "outputs": [
    {
     "name": "stdout",
     "output_type": "stream",
     "text": [
      "190\n"
     ]
    }
   ],
   "source": [
    "print(iq)"
   ]
  },
  {
   "cell_type": "code",
   "execution_count": 46,
   "id": "dried-mercury",
   "metadata": {},
   "outputs": [
    {
     "name": "stdout",
     "output_type": "stream",
     "text": [
      "190\n"
     ]
    }
   ],
   "source": [
    "user_id=190 # snake_case\n",
    "print(user_id)"
   ]
  },
  {
   "cell_type": "code",
   "execution_count": 47,
   "id": "racial-appeal",
   "metadata": {},
   "outputs": [
    {
     "name": "stdout",
     "output_type": "stream",
     "text": [
      "190\n"
     ]
    }
   ],
   "source": [
    "_user_id=190\n",
    "print(_user_id)"
   ]
  },
  {
   "cell_type": "code",
   "execution_count": 4,
   "id": "swiss-auditor",
   "metadata": {},
   "outputs": [
    {
     "ename": "NameError",
     "evalue": "name 'user_iq' is not defined",
     "output_type": "error",
     "traceback": [
      "\u001b[0;31m---------------------------------------------------------------------------\u001b[0m",
      "\u001b[0;31mNameError\u001b[0m                                 Traceback (most recent call last)",
      "\u001b[0;32m<ipython-input-4-2cc5935bc4e4>\u001b[0m in \u001b[0;36m<module>\u001b[0;34m\u001b[0m\n\u001b[1;32m      1\u001b[0m \u001b[0muser_IQ\u001b[0m\u001b[0;34m=\u001b[0m\u001b[0;36m40\u001b[0m \u001b[0;31m# case sensitive\u001b[0m\u001b[0;34m\u001b[0m\u001b[0;34m\u001b[0m\u001b[0m\n\u001b[0;32m----> 2\u001b[0;31m \u001b[0mprint\u001b[0m\u001b[0;34m(\u001b[0m\u001b[0muser_iq\u001b[0m\u001b[0;34m)\u001b[0m\u001b[0;34m\u001b[0m\u001b[0;34m\u001b[0m\u001b[0m\n\u001b[0m",
      "\u001b[0;31mNameError\u001b[0m: name 'user_iq' is not defined"
     ]
    }
   ],
   "source": [
    "user_IQ=40 # case sensitive\n",
    "print(user_iq)"
   ]
  },
  {
   "cell_type": "code",
   "execution_count": 5,
   "id": "difficult-force",
   "metadata": {},
   "outputs": [
    {
     "name": "stdout",
     "output_type": "stream",
     "text": [
      "40\n"
     ]
    }
   ],
   "source": [
    "print(user_IQ)"
   ]
  },
  {
   "cell_type": "code",
   "execution_count": 9,
   "id": "relative-helicopter",
   "metadata": {
    "scrolled": true
   },
   "outputs": [
    {
     "name": "stdout",
     "output_type": "stream",
     "text": [
      "190 47.5\n"
     ]
    }
   ],
   "source": [
    "iq=190\n",
    "user_age=iq/4\n",
    "print(iq,user_age)"
   ]
  },
  {
   "cell_type": "code",
   "execution_count": 8,
   "id": "touched-bunny",
   "metadata": {},
   "outputs": [
    {
     "data": {
      "text/plain": [
       "<module 'builtins' (built-in)>"
      ]
     },
     "execution_count": 8,
     "metadata": {},
     "output_type": "execute_result"
    }
   ],
   "source": [
    "# constants: UPPER CASE\n",
    "PI=3.14\n",
    "__builtin__ #__xxxx__"
   ]
  },
  {
   "cell_type": "code",
   "execution_count": 11,
   "id": "western-account",
   "metadata": {},
   "outputs": [
    {
     "name": "stdout",
     "output_type": "stream",
     "text": [
      "1 2 3\n"
     ]
    }
   ],
   "source": [
    "a,b,c=1,2,3\n",
    "print(a,b,c)"
   ]
  },
  {
   "cell_type": "code",
   "execution_count": 16,
   "id": "structured-measurement",
   "metadata": {},
   "outputs": [
    {
     "name": "stdout",
     "output_type": "stream",
     "text": [
      "10\n"
     ]
    }
   ],
   "source": [
    "# augmented assignment operator\n",
    "some_value=5\n",
    "# some_value=some_value+2\n",
    "some_value+=2\n",
    "some_value-=2\n",
    "some_value*=2\n",
    "print(some_value)"
   ]
  },
  {
   "cell_type": "code",
   "execution_count": 17,
   "id": "knowing-brooklyn",
   "metadata": {},
   "outputs": [
    {
     "name": "stdout",
     "output_type": "stream",
     "text": [
      "6\n"
     ]
    }
   ],
   "source": [
    "counter=0\n",
    "counter+=1\n",
    "counter+=1\n",
    "counter+=1\n",
    "counter+=1\n",
    "counter-=1\n",
    "counter*=2\n",
    "print(counter) #6"
   ]
  },
  {
   "cell_type": "code",
   "execution_count": 19,
   "id": "weekly-conditions",
   "metadata": {},
   "outputs": [
    {
     "data": {
      "text/plain": [
       "str"
      ]
     },
     "execution_count": 19,
     "metadata": {},
     "output_type": "execute_result"
    }
   ],
   "source": [
    "type(\"shit\")"
   ]
  },
  {
   "cell_type": "code",
   "execution_count": 21,
   "id": "assured-astrology",
   "metadata": {},
   "outputs": [],
   "source": [
    "username='supercoder'\n",
    "password='supersecret'\n",
    "long_string='''\n",
    "wow\n",
    "0 0\n",
    "---\n",
    "'''"
   ]
  },
  {
   "cell_type": "code",
   "execution_count": 22,
   "id": "configured-scroll",
   "metadata": {},
   "outputs": [
    {
     "name": "stdout",
     "output_type": "stream",
     "text": [
      "supercoder\n",
      "supersecret\n",
      "\n",
      "wow\n",
      "0 0\n",
      "---\n",
      "\n"
     ]
    }
   ],
   "source": [
    "print(username)\n",
    "print(password)\n",
    "print(long_string)"
   ]
  },
  {
   "cell_type": "code",
   "execution_count": 26,
   "id": "pharmaceutical-computer",
   "metadata": {},
   "outputs": [
    {
     "name": "stdout",
     "output_type": "stream",
     "text": [
      "Zizheng Wang\n"
     ]
    }
   ],
   "source": [
    "first_name='Zizheng'\n",
    "last_name='Wang'\n",
    "full_name=first_name+' '+last_name\n",
    "print(full_name)"
   ]
  },
  {
   "cell_type": "code",
   "execution_count": 35,
   "id": "compliant-invalid",
   "metadata": {},
   "outputs": [
    {
     "name": "stdout",
     "output_type": "stream",
     "text": [
      "hello World\n",
      "<class 'int'>\n",
      "<class 'int'>\n"
     ]
    }
   ],
   "source": [
    "# string concatenation\n",
    "print('hello'+' World')\n",
    "# type conversion\n",
    "print(type(int(str(100))))\n",
    "a=str(100)\n",
    "b=int(a)\n",
    "c=type(b)\n",
    "print(c)"
   ]
  },
  {
   "cell_type": "code",
   "execution_count": 44,
   "id": "going-kruger",
   "metadata": {},
   "outputs": [
    {
     "name": "stdout",
     "output_type": "stream",
     "text": [
      "\t It's \"kind of\" sunny \n",
      " hope you have a good day\n"
     ]
    }
   ],
   "source": [
    "# escape sequence\n",
    "weather=\"\\t It\\'s \\\"kind of\\\" sunny \\n hope you have a good day\"\n",
    "print(weather)"
   ]
  },
  {
   "cell_type": "code",
   "execution_count": 59,
   "id": "informed-serial",
   "metadata": {},
   "outputs": [
    {
     "name": "stdout",
     "output_type": "stream",
     "text": [
      "hi Johnny. You are 55 years old\n",
      "hi Johnny. You are 55 years old\n",
      "hi Johnny. You are 55 years old\n",
      "hi 55. You are Johnny years old\n",
      "hi Sally. You are 100 years old\n"
     ]
    }
   ],
   "source": [
    "# formatted strings\n",
    "name='Johnny'\n",
    "age=55\n",
    "print(f'hi {name}. You are {age} years old')  # python 3 easier, called 'f string'\n",
    "print('hi {}. You are {} years old'.format('Johnny','55'))\n",
    "print('hi {}. You are {} years old'.format(name,age))\n",
    "print('hi {1}. You are {0} years old'.format(name,age))\n",
    "print('hi {new_name}. You are {age} years old'.format(new_name='Sally',age=100))"
   ]
  },
  {
   "cell_type": "code",
   "execution_count": 80,
   "id": "extraordinary-dynamics",
   "metadata": {},
   "outputs": [
    {
     "name": "stdout",
     "output_type": "stream",
     "text": [
      "m\n",
      "e\n",
      "me me me\n",
      "me\n",
      "me me m\n",
      "me me me\n",
      "m em\n",
      "1234567\n",
      "0246\n",
      "01234\n",
      "01234567\n",
      "7\n",
      "6\n",
      "76543210\n",
      "7531\n"
     ]
    }
   ],
   "source": [
    "selfish='me me me'\n",
    "       #'01234567'\n",
    "print(selfish[0])\n",
    "print(selfish[7])\n",
    "print(selfish)\n",
    "# [start:stop:stepover] # string slicing\n",
    "print(selfish[0:2]) #0,1\n",
    "print(selfish[0:7]) #0,1,2,3,4,5,6\n",
    "print(selfish[0:8])\n",
    "print(selfish[0:8:2])\n",
    "self='01234567'\n",
    "print(self[1:])\n",
    "print(self[0:8:2])\n",
    "print(self[:5])\n",
    "print(self[::1])\n",
    "print(self[-1]) # start at the end\n",
    "print(self[-2])\n",
    "print(self[::-1])\n",
    "print(self[::-2])"
   ]
  },
  {
   "cell_type": "code",
   "execution_count": 88,
   "id": "rubber-dominican",
   "metadata": {},
   "outputs": [
    {
     "name": "stdout",
     "output_type": "stream",
     "text": [
      "hello cindy, your balance is 50.\n",
      "hello cindy, your balance is 50.\n",
      "hello cindy, your balance is 50.\n",
      "hello cindy, your balance is 50.\n",
      "hello cindy, your balance is 50.\n"
     ]
    }
   ],
   "source": [
    "print(\"hello {}, your balance is {}.\".format('cindy',50)) #cindy 50\n",
    "print(\"hello {0}, your balance is {1}.\".format('cindy',50)) #cindy 50\n",
    "print(\"hello {name}, your balance is {amount}.\".format(name='cindy',amount=50)) #cindy 50\n",
    "print(\"hello {0}, your balance is {amount}.\".format('cindy',amount=50)) #cindy 50\n",
    "name,amount='cindy',50\n",
    "print(f\"hello {name}, your balance is {amount}.\")"
   ]
  },
  {
   "cell_type": "code",
   "execution_count": 102,
   "id": "changing-survey",
   "metadata": {},
   "outputs": [
    {
     "name": "stdout",
     "output_type": "stream",
     "text": [
      " am\n",
      " am PYTHON\n",
      "I am PYTHON\n",
      " am PYTHON\n",
      "N\n",
      "T\n",
      "I am PYT\n",
      "HON\n",
      "NOHTYP ma I\n"
     ]
    }
   ],
   "source": [
    "python='I am PYTHON'\n",
    "     #='012345678910'\n",
    "print(python[1:4]) #' am'\n",
    "print(python[1:]) #' am-'\n",
    "print(python[:]) #python\n",
    "print(python[1:100]) #' am-'\n",
    "print(python[-1]) #'N'\n",
    "print(python[-4]) #'T'\n",
    "print(python[:-3]) #'I am PY'\n",
    "print(python[-3:]) #'HON'\n",
    "print(python[::-1]) #reverse"
   ]
  },
  {
   "cell_type": "code",
   "execution_count": 108,
   "id": "reflected-store",
   "metadata": {},
   "outputs": [
    {
     "name": "stdout",
     "output_type": "stream",
     "text": [
      "012345678\n"
     ]
    }
   ],
   "source": [
    "# immutability:strings can't be changed\n",
    "selfish='01234567'\n",
    "# X selfish[0]='8'\n",
    "selfish=selfish+'8'\n",
    "print(selfish)"
   ]
  },
  {
   "cell_type": "code",
   "execution_count": 113,
   "id": "casual-peninsula",
   "metadata": {
    "scrolled": true
   },
   "outputs": [
    {
     "name": "stdout",
     "output_type": "stream",
     "text": [
      "11\n",
      "helloooo\n"
     ]
    }
   ],
   "source": [
    "print(len('hello,world'))\n",
    "greet='helloooo'\n",
    "print(greet[0:len(greet)])"
   ]
  },
  {
   "cell_type": "code",
   "execution_count": 124,
   "id": "regional-theta",
   "metadata": {},
   "outputs": [
    {
     "name": "stdout",
     "output_type": "stream",
     "text": [
      "TO BE OR NOT TO BE\n",
      "To be or not to be\n",
      "to be or not to be\n",
      "3\n",
      "to me or not to me\n",
      "to be or not to be\n",
      "to me or not to me\n"
     ]
    }
   ],
   "source": [
    "quote='to be or not to be'\n",
    "print(quote.upper())\n",
    "print(quote.capitalize())\n",
    "print(quote.lower())\n",
    "print(quote.find('be')) # starts at index 3 (first occurence)\n",
    "print(quote.replace('be','me')) #old,new\n",
    "print(quote) #immutability:.method creates a new string\n",
    "quote2=quote.replace('be','me')\n",
    "print(quote2) "
   ]
  },
  {
   "cell_type": "code",
   "execution_count": 128,
   "id": "afraid-shooting",
   "metadata": {},
   "outputs": [
    {
     "name": "stdout",
     "output_type": "stream",
     "text": [
      "True\n",
      "False\n",
      "True\n"
     ]
    }
   ],
   "source": [
    "# booleans:True,False\n",
    "name='Andrew'\n",
    "is_cool=False\n",
    "is_cool=True\n",
    "print(bool(1))\n",
    "print(bool(0))\n",
    "print(bool('True'))"
   ]
  },
  {
   "cell_type": "code",
   "execution_count": 141,
   "id": "electoral-indicator",
   "metadata": {},
   "outputs": [
    {
     "name": "stdout",
     "output_type": "stream",
     "text": [
      "it's complicated\n",
      "what year were you born? 1999\n",
      "your age is: 21\n"
     ]
    }
   ],
   "source": [
    "name,age,relationship_status='Zizheng Wang',21,'single'\n",
    "relationship_status='it\\'s complicated'\n",
    "print(relationship_status)\n",
    "birth_year=input('what year were you born? ')\n",
    "# print(type(birth_year))\n",
    "age=2020-int(birth_year)\n",
    "print(f'your age is: {age}')"
   ]
  },
  {
   "cell_type": "code",
   "execution_count": 142,
   "id": "stuffed-sensitivity",
   "metadata": {},
   "outputs": [],
   "source": [
    "# comment"
   ]
  },
  {
   "cell_type": "code",
   "execution_count": 153,
   "id": "executed-token",
   "metadata": {},
   "outputs": [
    {
     "name": "stdout",
     "output_type": "stream",
     "text": [
      "please type in your username: jaujau\n",
      "please enter your password: dnwajnwdawd\n",
      "jaujau, your password ***********, is 11 letters long\n"
     ]
    }
   ],
   "source": [
    "username=input('please type in your username: ')\n",
    "password=input('please enter your password: ')\n",
    "password_lenth=len(password)\n",
    "hidden_password='*'*password_lenth\n",
    "print(f'{username}, your password {hidden_password}, is {password_lenth} letters long')"
   ]
  },
  {
   "cell_type": "code",
   "execution_count": 159,
   "id": "level-garlic",
   "metadata": {},
   "outputs": [
    {
     "name": "stdout",
     "output_type": "stream",
     "text": [
      "[1, 2, 3, 4, 5]\n",
      "['a', 'b', 'c']\n",
      "[1, 2.5, 'a', True]\n"
     ]
    }
   ],
   "source": [
    "# list\n",
    "li1=[1,2,3,4,5]\n",
    "li2=['a','b','c',]\n",
    "li3=[1,2.5,'a',True]\n",
    "print(li1)\n",
    "print(li2)\n",
    "print(li3)"
   ]
  },
  {
   "cell_type": "markdown",
   "id": "perfect-cancellation",
   "metadata": {},
   "source": [
    "## Data Structure"
   ]
  },
  {
   "cell_type": "code",
   "execution_count": 165,
   "id": "cheap-baptist",
   "metadata": {},
   "outputs": [
    {
     "name": "stdout",
     "output_type": "stream",
     "text": [
      "notebooks\n",
      "sunglasses\n"
     ]
    }
   ],
   "source": [
    "amazon_cart=['notebooks','sunglasses']\n",
    "print(amazon_cart[0])\n",
    "print(amazon_cart[1])\n",
    "# print(amazon_cart[2]) list index out of range"
   ]
  },
  {
   "cell_type": "code",
   "execution_count": 182,
   "id": "german-treasure",
   "metadata": {},
   "outputs": [
    {
     "name": "stdout",
     "output_type": "stream",
     "text": [
      "['notebooks', 'sunglasses', 'toys', 'grapes']\n",
      "['notebooks', 'sunglasses']\n",
      "['notebooks', 'toys']\n",
      "['laptop', 'sunglasses', 'toys']\n",
      "['gum', 'sunglasses', 'toys']\n",
      "['laptop', 'sunglasses', 'toys', 'grapes']\n"
     ]
    }
   ],
   "source": [
    "# list slicing\n",
    "amazon_cart=['notebooks',\n",
    "             'sunglasses',\n",
    "             'toys',\n",
    "             'grapes'\n",
    "            ]\n",
    "print(amazon_cart)\n",
    "print(amazon_cart[0:2])\n",
    "print(amazon_cart[0::2])\n",
    "amazon_cart[0]='laptop'  # list is mutable\n",
    "print(amazon_cart[0:3])  # list slicing creates a copy\n",
    "new_cart=amazon_cart[0:3]\n",
    "new_cart[0]='gum'\n",
    "print(new_cart)\n",
    "print(amazon_cart)"
   ]
  },
  {
   "cell_type": "code",
   "execution_count": 180,
   "id": "successful-advantage",
   "metadata": {},
   "outputs": [
    {
     "name": "stdout",
     "output_type": "stream",
     "text": [
      "['gum', 'sunglasses', 'toys', 'grapes']\n",
      "['gum', 'sunglasses', 'toys', 'grapes']\n"
     ]
    }
   ],
   "source": [
    "new_cart=amazon_cart    # equal,totally the same\n",
    "new_cart[0]='gum'\n",
    "print(new_cart)\n",
    "print(amazon_cart)"
   ]
  },
  {
   "cell_type": "code",
   "execution_count": 183,
   "id": "demanding-dakota",
   "metadata": {},
   "outputs": [
    {
     "name": "stdout",
     "output_type": "stream",
     "text": [
      "['gum', 'sunglasses', 'toys', 'grapes']\n",
      "['laptop', 'sunglasses', 'toys', 'grapes']\n"
     ]
    }
   ],
   "source": [
    "new_cart=amazon_cart[:]    # list slicing creates a copy,independent\n",
    "new_cart[0]='gum'\n",
    "print(new_cart)\n",
    "print(amazon_cart)"
   ]
  },
  {
   "cell_type": "code",
   "execution_count": 185,
   "id": "simplified-saskatchewan",
   "metadata": {},
   "outputs": [
    {
     "name": "stdout",
     "output_type": "stream",
     "text": [
      "2\n"
     ]
    }
   ],
   "source": [
    "# Matrix\n",
    "matrix=[\n",
    "    [1,2,3],\n",
    "    [2,4,6],\n",
    "    [7,8,9]\n",
    "]\n",
    "print(matrix[0][1])"
   ]
  },
  {
   "cell_type": "code",
   "execution_count": 190,
   "id": "organic-river",
   "metadata": {},
   "outputs": [
    {
     "name": "stdout",
     "output_type": "stream",
     "text": [
      "b\n",
      "b\n",
      "['b', 'c']\n",
      "['z', 'b', 'c']\n"
     ]
    }
   ],
   "source": [
    "new_list=['a','b','c']\n",
    "print(new_list[1]) # b\n",
    "print(new_list[-2]) # b\n",
    "print(new_list[1:3]) # 'b','c'\n",
    "new_list[0]='z'\n",
    "print(new_list) # 'z','b','c'"
   ]
  },
  {
   "cell_type": "code",
   "execution_count": 193,
   "id": "interested-intelligence",
   "metadata": {},
   "outputs": [
    {
     "name": "stdout",
     "output_type": "stream",
     "text": [
      "['z', 2, 3]\n",
      "[1, 2, 3, 5]\n"
     ]
    }
   ],
   "source": [
    "my_list=[1,2,3]\n",
    "bonus=my_list+[5] # a new list\n",
    "my_list[0]='z'\n",
    "print(my_list) # 'z',2,3\n",
    "print(bonus)   # 1,2,3,5"
   ]
  },
  {
   "cell_type": "code",
   "execution_count": 196,
   "id": "guided-inventory",
   "metadata": {},
   "outputs": [
    {
     "name": "stdout",
     "output_type": "stream",
     "text": [
      "Oranges\n"
     ]
    }
   ],
   "source": [
    "basket=['Banana',['Apples',['Oranges'],'Blueberries']]\n",
    "print(basket[1][1][0])"
   ]
  },
  {
   "cell_type": "code",
   "execution_count": 216,
   "id": "roman-western",
   "metadata": {},
   "outputs": [
    {
     "name": "stdout",
     "output_type": "stream",
     "text": [
      "5\n",
      "[1, 2, 3, 4, 5, 100]\n",
      "[1, 2, 3, 4, 5, 100]\n",
      "[1, 2, 3, 4, 100, 5]\n",
      "[1, 2, 3, 4, 5, 100, 101]\n"
     ]
    }
   ],
   "source": [
    "# list methods\n",
    "basket=[1,2,3,4,5]\n",
    "print(len(basket))\n",
    "# adding\n",
    "new_list=basket.append(100) # None\n",
    "new_list=basket\n",
    "print(new_list)\n",
    "print(basket)\n",
    "basket=[1,2,3,4,5]\n",
    "basket.insert(4,100)\n",
    "print(basket)\n",
    "new_list=basket.insert(4,100) # None\n",
    "basket=[1,2,3,4,5]\n",
    "basket.extend([100,101])\n",
    "print(basket)"
   ]
  },
  {
   "cell_type": "code",
   "execution_count": 230,
   "id": "quick-pendant",
   "metadata": {},
   "outputs": [
    {
     "name": "stdout",
     "output_type": "stream",
     "text": [
      "[1, 2, 3, 4, 5, 100]\n",
      "100\n",
      "[1, 2, 3, 4, 5]\n",
      "[1, 2, 3, 4]\n",
      "[2, 3, 4]\n",
      "[2, 3]\n",
      "None\n",
      "None\n",
      "[]\n"
     ]
    }
   ],
   "source": [
    "# removing\n",
    "basket=[1,2,3,4,5]\n",
    "basket.append(100)\n",
    "print(basket)\n",
    "new_list=basket.pop() # get rid of the end of the list (index); return what is popped\n",
    "print(new_list)\n",
    "print(basket)\n",
    "basket.pop()\n",
    "print(basket)\n",
    "basket.pop(0)\n",
    "print(basket)\n",
    "new_list=basket.remove(4) # the value; return  None\n",
    "print(basket)\n",
    "print(new_list)\n",
    "new_list=basket.clear() # clear the list completely\n",
    "print(new_list)\n",
    "print(basket)"
   ]
  },
  {
   "cell_type": "code",
   "execution_count": 244,
   "id": "enormous-fleet",
   "metadata": {},
   "outputs": [
    {
     "name": "stdout",
     "output_type": "stream",
     "text": [
      "3\n",
      "3\n",
      "True\n",
      "False\n",
      "True\n",
      "2\n"
     ]
    }
   ],
   "source": [
    "basket=['a','b','c','d','e','d']\n",
    "print(basket.index('d'))\n",
    "print(basket.index('d',0,4))\n",
    "print('d' in basket)\n",
    "print('x' in basket)\n",
    "print('i' in 'hi my name is Ian')\n",
    "print(basket.count('d'))"
   ]
  },
  {
   "cell_type": "code",
   "execution_count": 251,
   "id": "standard-upgrade",
   "metadata": {},
   "outputs": [
    {
     "name": "stdout",
     "output_type": "stream",
     "text": [
      "['Banana', 'Apples', 'Oranges', 'Blueberries']\n",
      "['Apples', 'Oranges', 'Blueberries']\n",
      "['Apples', 'Oranges']\n",
      "['Apples', 'Oranges', 'Kiwi']\n",
      "['Apples', 'Apples', 'Oranges', 'Kiwi']\n",
      "2\n",
      "[]\n"
     ]
    }
   ],
   "source": [
    "basket=['Banana','Apples','Oranges','Blueberries']\n",
    "print(basket)\n",
    "basket.remove('Banana')\n",
    "print(basket)\n",
    "basket.pop(2)\n",
    "print(basket)\n",
    "basket.append('Kiwi')\n",
    "print(basket)\n",
    "basket.insert(0,'Apples')\n",
    "print(basket)\n",
    "print(basket.count('Apples'))\n",
    "basket.clear()\n",
    "print(basket)"
   ]
  },
  {
   "cell_type": "code",
   "execution_count": 270,
   "id": "decimal-draft",
   "metadata": {},
   "outputs": [
    {
     "name": "stdout",
     "output_type": "stream",
     "text": [
      "None\n",
      "['a', 'b', 'c', 'd', 'd', 'e', 'x']\n",
      "['x', 'e', 'd', 'd', 'c', 'b', 'a']\n"
     ]
    }
   ],
   "source": [
    "basket=['a','x','b','c','d','e','d']\n",
    "basket.sort()\n",
    "print(basket.sort())\n",
    "print(basket)\n",
    "basket.reverse() # sort then reverse\n",
    "print(basket)"
   ]
  },
  {
   "cell_type": "code",
   "execution_count": 263,
   "id": "collaborative-rates",
   "metadata": {},
   "outputs": [
    {
     "name": "stdout",
     "output_type": "stream",
     "text": [
      "['a', 'b', 'c', 'd', 'd', 'e', 'x']\n",
      "['a', 'x', 'b', 'c', 'd', 'e', 'd']\n"
     ]
    }
   ],
   "source": [
    "basket=['a','x','b','c','d','e','d']\n",
    "sorted(basket)\n",
    "print(sorted(basket)) # creates a copy of basket and sort it\n",
    "print(basket)"
   ]
  },
  {
   "cell_type": "code",
   "execution_count": 265,
   "id": "announced-starter",
   "metadata": {},
   "outputs": [
    {
     "name": "stdout",
     "output_type": "stream",
     "text": [
      "['a', 'x', 'b', 'c', 'd', 'e', 'd']\n"
     ]
    }
   ],
   "source": [
    "new_basket=basket.copy()\n",
    "print(new_basket)"
   ]
  },
  {
   "cell_type": "code",
   "execution_count": 267,
   "id": "behavioral-saver",
   "metadata": {},
   "outputs": [
    {
     "name": "stdout",
     "output_type": "stream",
     "text": [
      "['d', 'e', 'd', 'c', 'b', 'x', 'a']\n"
     ]
    }
   ],
   "source": [
    "basket=['a','x','b','c','d','e','d']\n",
    "basket.reverse() \n",
    "print(basket)"
   ]
  },
  {
   "cell_type": "code",
   "execution_count": 289,
   "id": "anonymous-authentication",
   "metadata": {},
   "outputs": [
    {
     "name": "stdout",
     "output_type": "stream",
     "text": [
      "hi my name is Jack\n"
     ]
    }
   ],
   "source": [
    "basket=['a','x','b','c','d','e','d']\n",
    "basket.sort()\n",
    "basket.reverse()\n",
    "# print(basket[::-1])\n",
    "# print(basket)\n",
    "# print(list(range(1,100))) # 1-99\n",
    "# print(list(range(100)))   # 1-99\n",
    "new_sentence=' '.join(['hi','my','name','is','Jack'])\n",
    "print(new_sentence)\n"
   ]
  },
  {
   "cell_type": "code",
   "execution_count": 294,
   "id": "activated-religious",
   "metadata": {},
   "outputs": [
    {
     "name": "stdout",
     "output_type": "stream",
     "text": [
      "['Amira', 'Carrie', 'Chu', 'Joy', 'Patty', 'Simon', 'Stanley']\n"
     ]
    }
   ],
   "source": [
    "friends=['Simon','Patty','Joy','Carrie','Amira','Chu']\n",
    "new_friend=['Stanley']\n",
    "friends.extend(new_friend)\n",
    "friends.sort()\n",
    "print(friends)"
   ]
  },
  {
   "cell_type": "code",
   "execution_count": 301,
   "id": "signal-defensive",
   "metadata": {},
   "outputs": [
    {
     "name": "stdout",
     "output_type": "stream",
     "text": [
      "1\n",
      "2\n",
      "3\n",
      "[4, 5, 6, 7, 8]\n",
      "9\n"
     ]
    }
   ],
   "source": [
    "# list unpacking\n",
    "a,b,c,*other,d=[1,2,3,4,5,6,7,8,9]\n",
    "print(a)\n",
    "print(b)\n",
    "print(c)\n",
    "print(other)\n",
    "print(d)"
   ]
  },
  {
   "cell_type": "code",
   "execution_count": 304,
   "id": "associate-testament",
   "metadata": {},
   "outputs": [
    {
     "name": "stdout",
     "output_type": "stream",
     "text": [
      "None\n"
     ]
    }
   ],
   "source": [
    "# None\n",
    "weapons=None\n",
    "print(weapons)"
   ]
  },
  {
   "cell_type": "code",
   "execution_count": 312,
   "id": "least-airport",
   "metadata": {},
   "outputs": [
    {
     "name": "stdout",
     "output_type": "stream",
     "text": [
      "hello\n",
      "2\n",
      "{'a': [1, 2, 3], 'b': 'hello', 'x': True}\n",
      "3\n"
     ]
    }
   ],
   "source": [
    "# Dictionary\n",
    "dictionary={\n",
    "    'a':[1,2,3],\n",
    "    'b':'hello',\n",
    "    'x':True\n",
    "}\n",
    "print(dictionary['b'])\n",
    "print(dictionary['a'][1])\n",
    "print(dictionary)\n",
    "my_list=[\n",
    "    {\n",
    "    'a':[1,2,3],\n",
    "    'b':'hello',\n",
    "    'x':True\n",
    "    },\n",
    "    {\n",
    "    'a':[4,5,6],\n",
    "    'b':'hello',\n",
    "    'x':True\n",
    "    }\n",
    "]\n",
    "print(my_list[0]['a'][2])"
   ]
  },
  {
   "cell_type": "code",
   "execution_count": 318,
   "id": "dated-headline",
   "metadata": {},
   "outputs": [
    {
     "name": "stdout",
     "output_type": "stream",
     "text": [
      "[1, 2, 3]\n",
      "hello\n",
      "hello\n"
     ]
    }
   ],
   "source": [
    "dictionary={\n",
    "    123:[1,2,3],\n",
    "    'b':'hello',\n",
    "    'x':True\n",
    "}\n",
    "print(dictionary[123])\n",
    "dictionary={\n",
    "    123:[1,2,3],\n",
    "    True:'hello',\n",
    "    'x':True\n",
    "}\n",
    "print(dictionary[True])\n",
    "#dictionary={\n",
    "#   123:[1,2,3],\n",
    "#    True:'hello',\n",
    "#    [100]:True\n",
    "#}\n",
    "# keys are immutable (can't be changed)\n",
    "dictionary={\n",
    "    '123':[1,2,3],\n",
    "    '123':'hello'\n",
    "}\n",
    "print(dictionary['123']) # override"
   ]
  },
  {
   "cell_type": "code",
   "execution_count": 352,
   "id": "stopped-penalty",
   "metadata": {},
   "outputs": [
    {
     "name": "stdout",
     "output_type": "stream",
     "text": [
      "20\n",
      "{'name': 'johnjohn'}\n",
      "True\n",
      "True\n",
      "dict_items([('basket', [1, 2, 3]), ('greet', 'hello'), ('age', 20)])\n",
      "{'basket': [1, 2, 3], 'greet': 'hello', 'age': 20}\n",
      "{'basket': [1, 2, 3], 'greet': 'hello', 'age': 20}\n",
      "None\n",
      "{'basket': [1, 2, 3], 'greet': 'hello', 'age': 55}\n",
      "None\n",
      "{'basket': [1, 2, 3], 'greet': 'hello', 'age': 55, 'ages': 55}\n"
     ]
    }
   ],
   "source": [
    "user={\n",
    "    'basket':[1,2,3],\n",
    "    'greet':'hello',\n",
    "    'age':20\n",
    "}\n",
    "print(user.get('age',55)) # 55 is default value\n",
    "user2=dict(name='johnjohn') #name is key (no quotes),johnjohn is value\n",
    "print(user2)\n",
    "print('age' in user.keys())\n",
    "print('hello' in user.values())\n",
    "print(user.items())\n",
    "# user.clear()\n",
    "# print(user)\n",
    "user2=user.copy()\n",
    "# user.clear()\n",
    "print(user)\n",
    "print(user2)\n",
    "# print(user.pop('age'))\n",
    "# print(user)\n",
    "# print(user.popitem())\n",
    "# print(user)\n",
    "print(user.update({'age':55}))\n",
    "print(user)\n",
    "print(user.update({'ages':55}))\n",
    "print(user)"
   ]
  },
  {
   "cell_type": "code",
   "execution_count": 364,
   "id": "identical-nurse",
   "metadata": {},
   "outputs": [
    {
     "name": "stdout",
     "output_type": "stream",
     "text": [
      "dict_keys(['age', 'username', 'weapons', 'is_acitve', 'clan'])\n",
      "{'age': 22, 'username': 'Shogun', 'weapons': ['katana', 'shuriken', 'guns'], 'is_acitve': True, 'clan': 'Japan', 'is_banned': True}\n",
      "{'age': 25, 'username': 'superman', 'weapons': ['katana', 'shuriken', 'guns'], 'is_acitve': True, 'clan': 'Japan', 'is_banned': True}\n"
     ]
    }
   ],
   "source": [
    "user={\n",
    "    'age':22,\n",
    "    'username':'Shogun',\n",
    "    'weapons':['katana','shuriken'],\n",
    "    'is_acitve':True,\n",
    "    'clan':'Japan'\n",
    "}\n",
    "print(user.keys())\n",
    "user['weapons'].append('guns')\n",
    "user.update({'is_banned':False})\n",
    "user.update({'is_banned':True})\n",
    "user2=user.copy()\n",
    "user2['age']=23\n",
    "user2['username']='batman'\n",
    "user2.update({'age':25,'username':'superman'})\n",
    "print(user)\n",
    "print(user2)"
   ]
  },
  {
   "cell_type": "code",
   "execution_count": 384,
   "id": "ambient-arnold",
   "metadata": {},
   "outputs": [
    {
     "name": "stdout",
     "output_type": "stream",
     "text": [
      "2\n",
      "True\n",
      "[4, 5]\n",
      "2\n",
      "4\n",
      "6\n"
     ]
    }
   ],
   "source": [
    "# Tuple, immutable, can't be reassigned!\n",
    "my_tuple=(1,2,3,4,5,5)\n",
    "print(my_tuple[1])\n",
    "print(5 in my_tuple)\n",
    "user={\n",
    "    (1,2):[1,2,3],\n",
    "    'greet':'hello',\n",
    "    'age':20\n",
    "}\n",
    "x,y,z,*other=(1,2,3,4,5)\n",
    "print(other)\n",
    "print(my_tuple.count(5))\n",
    "print(my_tuple.index(5)) # first 5\n",
    "print(len(my_tuple))"
   ]
  },
  {
   "cell_type": "code",
   "execution_count": 393,
   "id": "informal-behalf",
   "metadata": {},
   "outputs": [
    {
     "name": "stdout",
     "output_type": "stream",
     "text": [
      "{1, 2, 3, 4, 5}\n",
      "True\n",
      "5\n",
      "[1, 2, 3, 4, 5]\n",
      "{1, 2, 3, 4, 5}\n",
      "set()\n"
     ]
    }
   ],
   "source": [
    "# set: unordered collection of unique objects\n",
    "my_set={1,2,3,4,5,5} # no duplicates\n",
    "my_set.add(100)\n",
    "my_set.add(2)\n",
    "my_list=[1,2,3,4,5,5]\n",
    "print(set(my_list))\n",
    "print(1 in my_set) \n",
    "my_set={1,2,3,4,5,5}\n",
    "print(len(my_set))\n",
    "print(list(my_set))\n",
    "new_set=my_set.copy()\n",
    "# my_set.clear()\n",
    "print(new_set)\n",
    "print(my_set)"
   ]
  },
  {
   "cell_type": "code",
   "execution_count": 415,
   "id": "requested-appeal",
   "metadata": {},
   "outputs": [
    {
     "name": "stdout",
     "output_type": "stream",
     "text": [
      "False\n"
     ]
    }
   ],
   "source": [
    "my_set={1,2,3,4,5}\n",
    "your_set={4,5,6,7,8,9,10}\n",
    "# print(my_set.difference(your_set)) my_set unchanged\n",
    "# print(my_set)\n",
    "# a=my_set.difference(your_set)\n",
    "# print(a)\n",
    "# print(my_set.discard(5))\n",
    "# print(my_set)\n",
    "# print(my_set.difference_update(your_set)) # my_set updated\n",
    "# print(my_set)\n",
    "# print(my_set.intersection(your_set)) # 交集\n",
    "# print(my_set & your_set) # and\n",
    "# print(my_set.isdisjoint(your_set))\n",
    "# print(my_set.union(your_set)) \n",
    "# print(my_set | your_set) # or\n",
    "# print(my_set.issubset(your_set))\n",
    "print(my_set.issuperset(your_set))"
   ]
  },
  {
   "cell_type": "code",
   "execution_count": 419,
   "id": "phantom-layer",
   "metadata": {},
   "outputs": [
    {
     "name": "stdout",
     "output_type": "stream",
     "text": [
      "{'Tammy'}\n"
     ]
    }
   ],
   "source": [
    "school={'Bobby','Tammy','Jammy','Sally','Danny'}\n",
    "attendance_list=['Jammy','Bobby','Danny','Sally']\n",
    "# attendance_set=set(attendance_list)\n",
    "# absent_set=school.difference(attendance_set)\n",
    "print(school.difference(attendance_list))"
   ]
  },
  {
   "cell_type": "code",
   "execution_count": null,
   "id": "streaming-telephone",
   "metadata": {},
   "outputs": [],
   "source": []
  }
 ],
 "metadata": {
  "kernelspec": {
   "display_name": "Python 3",
   "language": "python",
   "name": "python3"
  },
  "language_info": {
   "codemirror_mode": {
    "name": "ipython",
    "version": 3
   },
   "file_extension": ".py",
   "mimetype": "text/x-python",
   "name": "python",
   "nbconvert_exporter": "python",
   "pygments_lexer": "ipython3",
   "version": "3.8.3"
  }
 },
 "nbformat": 4,
 "nbformat_minor": 5
}
